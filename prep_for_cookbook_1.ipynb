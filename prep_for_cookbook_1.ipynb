{
 "cells": [
  {
   "cell_type": "markdown",
   "metadata": {},
   "source": [
    "# Let's begin to combine everything we have learned so far to create a diagnostic pipeline"
   ]
  },
  {
   "cell_type": "markdown",
   "metadata": {},
   "source": [
    "In building this pipeline, our aim is to:\n",
    "1. Load in all the data\n",
    "2. Inspect the data by plotting it\n",
    "3. Approve if the data looks correct"
   ]
  },
  {
   "cell_type": "markdown",
   "metadata": {},
   "source": [
    "Before we begin, we will need a few more tools"
   ]
  },
  {
   "cell_type": "markdown",
   "metadata": {},
   "source": [
    "## The package \"glob\""
   ]
  },
  {
   "cell_type": "markdown",
   "metadata": {},
   "source": [
    "This package matches the path given to the function with existing filenames and returns those that match.\n",
    "\n",
    "This package has two functions inside which essentially do the same thing: take an input string from user and return all files with pathnames that match the given string literal."
   ]
  },
  {
   "cell_type": "code",
   "execution_count": 1,
   "metadata": {},
   "outputs": [],
   "source": [
    "import glob"
   ]
  },
  {
   "cell_type": "markdown",
   "metadata": {},
   "source": [
    "The syntax is straightforward: `glob.glob(_pathname_)`"
   ]
  },
  {
   "cell_type": "markdown",
   "metadata": {},
   "source": [
    "For this pipeline, we want all the files stored inside the folder \"data_1\" which is in our current working directory."
   ]
  },
  {
   "cell_type": "code",
   "execution_count": 2,
   "metadata": {},
   "outputs": [
    {
     "name": "stdout",
     "output_type": "stream",
     "text": [
      "['./data_1/1756.npz', './data_1/0737.npz', './data_1/1102.npz', './data_1/1534.npz']\n"
     ]
    }
   ],
   "source": [
    "files = glob.glob(\"./data_1/*\")\n",
    "print(files)"
   ]
  },
  {
   "cell_type": "markdown",
   "metadata": {},
   "source": [
    "The `*` character is a special character called a wildcard which matches with everything in a given directory. This syntax is part of \"regular expressions\" (https://docs.python.org/3.4/library/re.html)"
   ]
  },
  {
   "cell_type": "markdown",
   "metadata": {},
   "source": [
    "### _Problem_"
   ]
  },
  {
   "cell_type": "markdown",
   "metadata": {},
   "source": [
    "Use glob to inspect the files in the directory `data_2` and count the number of files in that directory.\n",
    "\n",
    "***"
   ]
  },
  {
   "cell_type": "markdown",
   "metadata": {},
   "source": [
    "The path to all files that hold our data is stored in the array *files*. We can open the data now with numpy load."
   ]
  },
  {
   "cell_type": "code",
   "execution_count": 3,
   "metadata": {},
   "outputs": [],
   "source": [
    "import numpy as np"
   ]
  },
  {
   "cell_type": "code",
   "execution_count": 4,
   "metadata": {},
   "outputs": [],
   "source": [
    "example = np.load(files[0])"
   ]
  },
  {
   "cell_type": "markdown",
   "metadata": {},
   "source": [
    "The `.npz` files we are using contain three numpy arrays, zipped together. We will need to separate them, which can be done as follows:"
   ]
  },
  {
   "cell_type": "code",
   "execution_count": 5,
   "metadata": {},
   "outputs": [],
   "source": [
    "x_array = example['arr_0']\n",
    "y_array = example['arr_1']\n",
    "y_err = example['arr_2']"
   ]
  },
  {
   "cell_type": "code",
   "execution_count": 6,
   "metadata": {},
   "outputs": [
    {
     "data": {
      "text/plain": [
       "array([  10,  110,  210,  310,  410,  510,  610,  710,  810,  910, 1010,\n",
       "       1110, 1210, 1310, 1410, 1510, 1610, 1710, 1810, 1910, 2010, 2110,\n",
       "       2210, 2310, 2410, 2510, 2610, 2710, 2810, 2910, 3010, 3110, 3210])"
      ]
     },
     "execution_count": 6,
     "metadata": {},
     "output_type": "execute_result"
    }
   ],
   "source": [
    "x_array"
   ]
  },
  {
   "cell_type": "code",
   "execution_count": 10,
   "metadata": {},
   "outputs": [
    {
     "data": {
      "text/plain": [
       "(33, 33)"
      ]
     },
     "execution_count": 10,
     "metadata": {},
     "output_type": "execute_result"
    }
   ],
   "source": [
    "len(y_array), len(y_err)"
   ]
  },
  {
   "cell_type": "markdown",
   "metadata": {},
   "source": [
    "### _Problem_"
   ]
  },
  {
   "cell_type": "markdown",
   "metadata": {},
   "source": [
    "Open any *two* files in `data_2` and plot the x and y values"
   ]
  },
  {
   "cell_type": "markdown",
   "metadata": {},
   "source": [
    "## Accepting input from user"
   ]
  },
  {
   "cell_type": "markdown",
   "metadata": {},
   "source": [
    "The final tool we'll need is the ability to take input/feedback from the user. This can be done by using `input` function in python"
   ]
  },
  {
   "cell_type": "code",
   "execution_count": 14,
   "metadata": {},
   "outputs": [
    {
     "name": "stdout",
     "output_type": "stream",
     "text": [
      "What is your name: 1\n",
      "What is your age: Nihan\n",
      "Wow, 1, you're already Nihan years old!\n"
     ]
    }
   ],
   "source": [
    "name = input(\"What is your name: \")\n",
    "age = input(\"What is your age: \")\n",
    "\n",
    "print(\"Wow, \" + name + \", you're already \" + age + ' years old!')"
   ]
  },
  {
   "cell_type": "markdown",
   "metadata": {},
   "source": [
    "**Note:** The type of variable returned by `input` is always `str`"
   ]
  },
  {
   "cell_type": "code",
   "execution_count": 15,
   "metadata": {},
   "outputs": [
    {
     "data": {
      "text/plain": [
       "str"
      ]
     },
     "execution_count": 15,
     "metadata": {},
     "output_type": "execute_result"
    }
   ],
   "source": [
    "type(name)"
   ]
  },
  {
   "cell_type": "markdown",
   "metadata": {},
   "source": [
    "### _Problem_"
   ]
  },
  {
   "cell_type": "markdown",
   "metadata": {},
   "source": [
    "Take the location of the data from the user and pass it to glob.glob and print the number of files and the names of the files themselves."
   ]
  }
 ],
 "metadata": {
  "kernelspec": {
   "display_name": "Python 3",
   "language": "python",
   "name": "python3"
  },
  "language_info": {
   "codemirror_mode": {
    "name": "ipython",
    "version": 3
   },
   "file_extension": ".py",
   "mimetype": "text/x-python",
   "name": "python",
   "nbconvert_exporter": "python",
   "pygments_lexer": "ipython3",
   "version": "3.5.2"
  }
 },
 "nbformat": 4,
 "nbformat_minor": 2
}
