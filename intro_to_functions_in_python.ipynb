{
 "cells": [
  {
   "cell_type": "markdown",
   "metadata": {},
   "source": [
    "# Introduction to functions in Python"
   ]
  },
  {
   "cell_type": "code",
   "execution_count": 1,
   "metadata": {},
   "outputs": [
    {
     "data": {
      "text/plain": [
       "'3.5.2 (default, Nov 23 2017, 16:37:01) \\n[GCC 5.4.0 20160609]'"
      ]
     },
     "execution_count": 1,
     "metadata": {},
     "output_type": "execute_result"
    }
   ],
   "source": [
    "import sys\n",
    "sys.version"
   ]
  },
  {
   "cell_type": "markdown",
   "metadata": {},
   "source": [
    "Functions are a great way to repeat tasks in code without having to re-write entire sections of code. Functions also help to make code easier to read and follow, while making troubleshooting easier."
   ]
  },
  {
   "cell_type": "markdown",
   "metadata": {},
   "source": [
    "### Syntax:"
   ]
  },
  {
   "cell_type": "code",
   "execution_count": 1,
   "metadata": {},
   "outputs": [],
   "source": [
    "def func():\n",
    "    print(\"This is a function\")"
   ]
  },
  {
   "cell_type": "code",
   "execution_count": 2,
   "metadata": {},
   "outputs": [
    {
     "name": "stdout",
     "output_type": "stream",
     "text": [
      "This is a function\n"
     ]
    }
   ],
   "source": [
    "func()"
   ]
  },
  {
   "cell_type": "markdown",
   "metadata": {},
   "source": [
    "### Slightly more complicated function definition:"
   ]
  },
  {
   "cell_type": "code",
   "execution_count": 5,
   "metadata": {},
   "outputs": [],
   "source": [
    "def addition(number_1, number_2):\n",
    "    \n",
    "    total = number_1 + number_2\n",
    "    \n",
    "    print(total)"
   ]
  },
  {
   "cell_type": "code",
   "execution_count": 7,
   "metadata": {},
   "outputs": [
    {
     "name": "stdout",
     "output_type": "stream",
     "text": [
      "5\n"
     ]
    }
   ],
   "source": [
    "addition(3, 2)"
   ]
  },
  {
   "cell_type": "code",
   "execution_count": 17,
   "metadata": {},
   "outputs": [],
   "source": [
    "def addition(number_1, number_2):\n",
    "    \n",
    "    print(\"Input numbers are {} and {}\".format(number_1, number_2))\n",
    "    \n",
    "    total = number_1 + number_2\n",
    "    \n",
    "    print(\"The total is: {}\".format(total))"
   ]
  },
  {
   "cell_type": "code",
   "execution_count": 18,
   "metadata": {},
   "outputs": [
    {
     "name": "stdout",
     "output_type": "stream",
     "text": [
      "Input numbers are 3 and 2\n",
      "The total is: 5\n"
     ]
    }
   ],
   "source": [
    "addition(3, 2)"
   ]
  },
  {
   "cell_type": "markdown",
   "metadata": {},
   "source": [
    "### _Problem_"
   ]
  },
  {
   "cell_type": "markdown",
   "metadata": {},
   "source": [
    "Write a function that takes in two numbers (x,y) and:\n",
    "1. Prints the two input numbers\n",
    "2. Raises the first number, x, to the power given by the second number, y, i.e. $x^y$\n",
    "3. Print this result"
   ]
  },
  {
   "cell_type": "code",
   "execution_count": 19,
   "metadata": {},
   "outputs": [],
   "source": [
    "def addition(number_1, number_2):\n",
    "    \n",
    "    print(\"Input numbers are {} and {}\".format(number_1, number_2))\n",
    "    \n",
    "    total = number_1 + number_2\n",
    "    \n",
    "    print(\"The total is: {}\".format(total))\n",
    "    \n",
    "    return total"
   ]
  },
  {
   "cell_type": "code",
   "execution_count": 20,
   "metadata": {},
   "outputs": [
    {
     "name": "stdout",
     "output_type": "stream",
     "text": [
      "Input numbers are 3 and 2\n",
      "The total is: 5\n"
     ]
    }
   ],
   "source": [
    "result = addition(3, 2)"
   ]
  },
  {
   "cell_type": "code",
   "execution_count": 21,
   "metadata": {},
   "outputs": [
    {
     "name": "stdout",
     "output_type": "stream",
     "text": [
      "5\n"
     ]
    }
   ],
   "source": [
    "print(result)"
   ]
  },
  {
   "cell_type": "code",
   "execution_count": 26,
   "metadata": {},
   "outputs": [],
   "source": [
    "def addition(number_1, number_2):\n",
    "    '''\n",
    "    Takes in two numbers and returns the sum\n",
    "    \n",
    "    Inputs:\n",
    "    number_1: First number\n",
    "    number_2: Second number\n",
    "    '''\n",
    "    \n",
    "    \n",
    "    print(\"Input numbers are {} and {}\".format(number_1, number_2))\n",
    "    \n",
    "    total = number_1 + number_2\n",
    "    \n",
    "    print(\"The total is: {}\".format(total))\n",
    "    \n",
    "    return total"
   ]
  },
  {
   "cell_type": "code",
   "execution_count": 28,
   "metadata": {},
   "outputs": [],
   "source": [
    "import numpy as np\n"
   ]
  },
  {
   "cell_type": "code",
   "execution_count": null,
   "metadata": {},
   "outputs": [],
   "source": [
    "np.loadtxt() #shift-tab"
   ]
  },
  {
   "cell_type": "code",
   "execution_count": null,
   "metadata": {},
   "outputs": [],
   "source": [
    "addition() #shift-tab"
   ]
  },
  {
   "cell_type": "markdown",
   "metadata": {},
   "source": [
    "### _Problem_"
   ]
  },
  {
   "cell_type": "markdown",
   "metadata": {},
   "source": [
    "Modify your earlier funtion to:\n",
    "1. Return the result\n",
    "2. Add in a docstring which has a summary of your function and describes the input and output parameters"
   ]
  },
  {
   "cell_type": "markdown",
   "metadata": {},
   "source": [
    "### Local and Global variables"
   ]
  },
  {
   "cell_type": "code",
   "execution_count": 31,
   "metadata": {},
   "outputs": [],
   "source": [
    "def addition(number_1, number_2):\n",
    "    '''\n",
    "    Takes in two numbers and returns the sum\n",
    "    \n",
    "    Inputs:\n",
    "    number_1: First number\n",
    "    number_2: Second number\n",
    "    '''\n",
    "    \n",
    "    \n",
    "    print(\"Input numbers are {} and {}\".format(number_1, number_2))\n",
    "    \n",
    "    total = number_1 + number_2\n",
    "    \n",
    "    print(\"The total is: {}\".format(total))\n",
    "    \n",
    "    final_op = total / 2\n",
    "    \n",
    "    return final_op"
   ]
  },
  {
   "cell_type": "code",
   "execution_count": 32,
   "metadata": {},
   "outputs": [
    {
     "name": "stdout",
     "output_type": "stream",
     "text": [
      "Input numbers are 3 and 2\n",
      "The total is: 5\n",
      "2\n"
     ]
    },
    {
     "ename": "NameError",
     "evalue": "name 'final_op' is not defined",
     "output_type": "error",
     "traceback": [
      "\u001b[0;31m---------------------------------------------------------------------------\u001b[0m",
      "\u001b[0;31mNameError\u001b[0m                                 Traceback (most recent call last)",
      "\u001b[0;32m<ipython-input-32-80f5e5ac86a6>\u001b[0m in \u001b[0;36m<module>\u001b[0;34m()\u001b[0m\n\u001b[1;32m      1\u001b[0m \u001b[0moutput\u001b[0m \u001b[0;34m=\u001b[0m \u001b[0maddition\u001b[0m\u001b[0;34m(\u001b[0m\u001b[0;36m3\u001b[0m\u001b[0;34m,\u001b[0m \u001b[0;36m2\u001b[0m\u001b[0;34m)\u001b[0m\u001b[0;34m\u001b[0m\u001b[0m\n\u001b[1;32m      2\u001b[0m \u001b[0;32mprint\u001b[0m\u001b[0;34m(\u001b[0m\u001b[0moutput\u001b[0m\u001b[0;34m)\u001b[0m\u001b[0;34m\u001b[0m\u001b[0m\n\u001b[0;32m----> 3\u001b[0;31m \u001b[0;32mprint\u001b[0m\u001b[0;34m(\u001b[0m\u001b[0mfinal_op\u001b[0m\u001b[0;34m)\u001b[0m\u001b[0;34m\u001b[0m\u001b[0m\n\u001b[0m",
      "\u001b[0;31mNameError\u001b[0m: name 'final_op' is not defined"
     ]
    }
   ],
   "source": [
    "output = addition(3, 2)\n",
    "print(output)\n",
    "print(final_op)"
   ]
  },
  {
   "cell_type": "code",
   "execution_count": 33,
   "metadata": {},
   "outputs": [
    {
     "ename": "NameError",
     "evalue": "name 'total' is not defined",
     "output_type": "error",
     "traceback": [
      "\u001b[0;31m---------------------------------------------------------------------------\u001b[0m",
      "\u001b[0;31mNameError\u001b[0m                                 Traceback (most recent call last)",
      "\u001b[0;32m<ipython-input-33-517c68ee957b>\u001b[0m in \u001b[0;36m<module>\u001b[0;34m()\u001b[0m\n\u001b[0;32m----> 1\u001b[0;31m \u001b[0;32mprint\u001b[0m\u001b[0;34m(\u001b[0m\u001b[0mtotal\u001b[0m\u001b[0;34m)\u001b[0m\u001b[0;34m\u001b[0m\u001b[0m\n\u001b[0m",
      "\u001b[0;31mNameError\u001b[0m: name 'total' is not defined"
     ]
    }
   ],
   "source": [
    "print(total)"
   ]
  },
  {
   "cell_type": "markdown",
   "metadata": {},
   "source": [
    "- Any code outside the body of the function __*cannot*__ see any variables inside the body of the function.\n",
    "    - These variables that exist only inside the body of a function are called __local__ variables.\n",
    "- However, any variables defined outside the body of the function __*are visible*__ inside the function.\n",
    "    - These variables defined outside the scope of a function are called __global__ variables.\n",
    "- To provide access to local variables, they need to be explicitly defined as global variables in the function"
   ]
  },
  {
   "cell_type": "code",
   "execution_count": 43,
   "metadata": {},
   "outputs": [],
   "source": [
    "def addition(number_1, number_2):\n",
    "    '''\n",
    "    Takes in two numbers and returns the sum\n",
    "    \n",
    "    Inputs:\n",
    "    number_1: First number\n",
    "    number_2: Second number\n",
    "    '''\n",
    "    \n",
    "    \n",
    "    print(\"Input numbers are {} and {}\".format(number_1, number_2))\n",
    "    \n",
    "    global total\n",
    "    total = number_1 + number_2\n",
    "    \n",
    "    print(\"The total is: {}\".format(total))\n",
    "    \n",
    "    final_op = total / 2\n",
    "    \n",
    "    return final_op"
   ]
  },
  {
   "cell_type": "code",
   "execution_count": 44,
   "metadata": {},
   "outputs": [
    {
     "name": "stdout",
     "output_type": "stream",
     "text": [
      "Input numbers are 3 and 2\n",
      "The total is: 5\n",
      "2\n",
      "5\n"
     ]
    }
   ],
   "source": [
    "result = addition(3, 2)\n",
    "print(result)\n",
    "print(total)"
   ]
  }
 ],
 "metadata": {
  "kernelspec": {
   "display_name": "Python 3",
   "language": "python",
   "name": "python3"
  },
  "language_info": {
   "codemirror_mode": {
    "name": "ipython",
    "version": 3
   },
   "file_extension": ".py",
   "mimetype": "text/x-python",
   "name": "python",
   "nbconvert_exporter": "python",
   "pygments_lexer": "ipython3",
   "version": "3.5.2"
  }
 },
 "nbformat": 4,
 "nbformat_minor": 2
}
